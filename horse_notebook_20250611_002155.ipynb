
{
 "cells": [
  {
   "cell_type": "code",
   "source": [
    "# Example usage of horse model functions\n",
    "from horse_model import *\n",
    "# Load and score your race data..."
   ],
   "metadata": {},
   "outputs": []
  }
 ],
 "metadata": {
  "kernelspec": {
   "display_name": "Python 3",
   "language": "python",
   "name": "python3"
  },
  "language_info": {
   "name": "python"
  }
 },
 "nbformat": 4,
 "nbformat_minor": 2
}
